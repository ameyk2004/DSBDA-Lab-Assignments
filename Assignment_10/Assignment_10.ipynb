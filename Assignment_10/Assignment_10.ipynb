{
 "cells": [
  {
   "cell_type": "markdown",
   "metadata": {},
   "source": [
    "## Assignment 10"
   ]
  },
  {
   "cell_type": "code",
   "execution_count": 159,
   "metadata": {},
   "outputs": [],
   "source": [
    "from nltk import pos_tag\n",
    "from nltk.corpus import stopwords\n",
    "from nltk.tokenize import word_tokenize, sent_tokenize\n",
    "from nltk.stem import WordNetLemmatizer, PorterStemmer\n",
    "from nltk.probability import FreqDist"
   ]
  },
  {
   "cell_type": "code",
   "execution_count": 160,
   "metadata": {},
   "outputs": [],
   "source": [
    "# open and read\n",
    "\n",
    "with open(\"text_01.txt\", \"r\") as file_1:\n",
    "    doc_1 = file_1.read()\n",
    "\n"
   ]
  },
  {
   "cell_type": "code",
   "execution_count": 161,
   "metadata": {},
   "outputs": [],
   "source": [
    "# Tokenize \n",
    "\n",
    "word_tokens = word_tokenize(doc_1)\n",
    "sent_tokens = sent_tokenize(doc_1)"
   ]
  },
  {
   "cell_type": "code",
   "execution_count": 162,
   "metadata": {},
   "outputs": [
    {
     "name": "stderr",
     "output_type": "stream",
     "text": [
      "[nltk_data] Downloading package stopwords to\n",
      "[nltk_data]     /Users/ameykulkarni/nltk_data...\n",
      "[nltk_data]   Package stopwords is already up-to-date!\n"
     ]
    }
   ],
   "source": [
    "# Stop word Removal\n",
    "import nltk\n",
    "nltk.download('stopwords')\n",
    "\n",
    "stop_words = set(stopwords.words('english'))\n",
    "stop_words = list(set(stopwords.words('english')))\n"
   ]
  },
  {
   "cell_type": "code",
   "execution_count": 163,
   "metadata": {},
   "outputs": [
    {
     "name": "stdout",
     "output_type": "stream",
     "text": [
      "['that', 'o', \"mightn't\", 'a', 'by']\n"
     ]
    }
   ],
   "source": [
    "print(stop_words[:5])"
   ]
  },
  {
   "cell_type": "code",
   "execution_count": 164,
   "metadata": {},
   "outputs": [
    {
     "data": {
      "text/plain": [
       "['Between',\n",
       " '2016',\n",
       " '2019',\n",
       " ',',\n",
       " 'state',\n",
       " 'forest',\n",
       " 'department',\n",
       " 'BJP',\n",
       " 'government',\n",
       " 'launched']"
      ]
     },
     "execution_count": 164,
     "metadata": {},
     "output_type": "execute_result"
    }
   ],
   "source": [
    "word_tokens = [word for word in word_tokens if word not in stop_words]\n",
    "word_tokens[:10]"
   ]
  },
  {
   "cell_type": "code",
   "execution_count": 165,
   "metadata": {},
   "outputs": [
    {
     "data": {
      "text/plain": [
       "[('Between', 'IN'),\n",
       " ('2016', 'CD'),\n",
       " ('2019', 'CD'),\n",
       " (',', ','),\n",
       " ('state', 'NN')]"
      ]
     },
     "execution_count": 165,
     "metadata": {},
     "output_type": "execute_result"
    }
   ],
   "source": [
    "# post tagging\n",
    "\n",
    "pos_tags = pos_tag(word_tokens)\n",
    "pos_tags[:5]"
   ]
  },
  {
   "cell_type": "code",
   "execution_count": 166,
   "metadata": {},
   "outputs": [
    {
     "data": {
      "text/plain": [
       "{'four-year': 'four-year',\n",
       " 'period': 'period',\n",
       " '.': '.',\n",
       " 'In': 'in',\n",
       " 'October': 'octob',\n",
       " '2019': '2019',\n",
       " ',': ',',\n",
       " 'government': 'govern',\n",
       " 'claimed': 'claim',\n",
       " 'surpassed': 'surpass'}"
      ]
     },
     "execution_count": 166,
     "metadata": {},
     "output_type": "execute_result"
    }
   ],
   "source": [
    "# Stemmer\n",
    "\n",
    "stemmer = PorterStemmer()\n",
    "\n",
    "stemmed_words = [stemmer.stem(w) for w in word_tokens]\n",
    "\n",
    "dict(zip(word_tokens[20:30], stemmed_words[20:30],))"
   ]
  },
  {
   "cell_type": "code",
   "execution_count": 167,
   "metadata": {},
   "outputs": [
    {
     "name": "stderr",
     "output_type": "stream",
     "text": [
      "[nltk_data] Downloading package wordnet to\n",
      "[nltk_data]     /Users/ameykulkarni/nltk_data...\n",
      "[nltk_data]   Package wordnet is already up-to-date!\n"
     ]
    },
    {
     "data": {
      "text/plain": [
       "True"
      ]
     },
     "execution_count": 167,
     "metadata": {},
     "output_type": "execute_result"
    }
   ],
   "source": [
    "nltk.download('wordnet')\n"
   ]
  },
  {
   "cell_type": "code",
   "execution_count": 168,
   "metadata": {},
   "outputs": [
    {
     "data": {
      "text/plain": [
       "{'four-year': 'four-year',\n",
       " 'period': 'period',\n",
       " '.': '.',\n",
       " 'In': 'In',\n",
       " 'October': 'October',\n",
       " '2019': '2019',\n",
       " ',': ',',\n",
       " 'government': 'government',\n",
       " 'claimed': 'claimed',\n",
       " 'surpassed': 'surpassed',\n",
       " 'target': 'target',\n",
       " 'planting': 'planting',\n",
       " '33': '33',\n",
       " 'crore': 'crore',\n",
       " 'trees': 'tree',\n",
       " 'July-September': 'July-September',\n",
       " 'The': 'The',\n",
       " 'Indian': 'Indian',\n",
       " 'Express': 'Express',\n",
       " 'found': 'found',\n",
       " 'non-forest': 'non-forest',\n",
       " 'agencies': 'agency',\n",
       " '—': '—',\n",
       " 'gram': 'gram',\n",
       " 'panchayats': 'panchayat',\n",
       " 'tasked': 'tasked',\n",
       " 'uploaded': 'uploaded',\n",
       " 'mandatory': 'mandatory',\n",
       " 'audio-visual': 'audio-visual',\n",
       " 'proof': 'proof',\n",
       " 'tree': 'tree',\n",
       " 'plantation': 'plantation',\n",
       " 'drives': 'drive',\n",
       " 'specially': 'specially',\n",
       " 'created': 'created',\n",
       " 'portal': 'portal',\n",
       " 'Pune': 'Pune',\n",
       " 'Revenue': 'Revenue',\n",
       " 'Division': 'Division',\n",
       " 'planted': 'planted',\n",
       " '1.7': '1.7',\n",
       " 'saplings': 'sapling',\n",
       " ';': ';',\n",
       " 'however': 'however',\n",
       " 'evidence': 'evidence',\n",
       " '87': '87',\n",
       " 'per': 'per',\n",
       " 'cent': 'cent',\n",
       " '(': '(',\n",
       " '1.49': '1.49',\n",
       " ')': ')',\n",
       " 'Also': 'Also',\n",
       " '59': '59',\n",
       " 'involved': 'involved',\n",
       " 'drive': 'drive',\n",
       " 'many': 'many',\n",
       " '38': '38',\n",
       " 'submitted': 'submitted',\n",
       " 'survival': 'survival',\n",
       " 'reports': 'report',\n",
       " 'This': 'This',\n",
       " 'year': 'year',\n",
       " 'targets': 'target',\n",
       " 'set': 'set',\n",
       " 'forest': 'forest',\n",
       " 'department': 'department',\n",
       " 'comparatively': 'comparatively',\n",
       " 'modest': 'modest',\n",
       " 'For': 'For',\n",
       " 'example': 'example',\n",
       " 'Circle': 'Circle',\n",
       " 'comprises': 'comprises',\n",
       " 'three': 'three',\n",
       " 'divisions': 'division',\n",
       " 'Solapur': 'Solapur',\n",
       " 'district': 'district',\n",
       " 'planned': 'planned',\n",
       " 'plant': 'plant',\n",
       " '17': '17',\n",
       " 'lakh': 'lakh',\n",
       " 'land': 'land',\n",
       " 'However': 'However',\n",
       " 'may': 'may',\n",
       " 'meet': 'meet',\n",
       " 'due': 'due',\n",
       " 'unavailability': 'unavailability',\n",
       " 'funds': 'fund',\n",
       " 'Last': 'Last',\n",
       " '70': '70',\n",
       " 'six': 'six',\n",
       " 'talukas': 'talukas',\n",
       " 'namely': 'namely',\n",
       " 'Maval': 'Maval',\n",
       " 'Mulshi': 'Mulshi',\n",
       " 'Daund': 'Daund',\n",
       " 'Indapur': 'Indapur',\n",
       " 'Baramati': 'Baramati',\n",
       " 'Havveli': 'Havveli',\n",
       " 'preparations': 'preparation',\n",
       " 'done': 'done',\n",
       " '4': '4',\n",
       " 'special': 'special',\n",
       " 'emphasis': 'emphasis',\n",
       " 'teakwood': 'teakwood',\n",
       " 'National': 'National',\n",
       " 'Forest': 'Forest',\n",
       " 'Policy': 'Policy',\n",
       " 'aims': 'aim',\n",
       " 'emphasizes': 'emphasizes',\n",
       " 'maintaining': 'maintaining',\n",
       " '%': '%',\n",
       " 'countrys': 'country',\n",
       " 'geographical': 'geographical',\n",
       " 'area': 'area',\n",
       " 'green': 'green',\n",
       " 'cover': 'cover',\n",
       " 'view': 'view',\n",
       " 'part': 'part',\n",
       " '50': '50',\n",
       " 'programme': 'programme',\n",
       " 'within': 'within',\n",
       " 'Maharashtra': 'Maharashtra',\n",
       " 'Department': 'Department',\n",
       " 'State': 'State',\n",
       " '1st': '1st',\n",
       " 'July': 'July',\n",
       " '7th': '7th',\n",
       " '2017': '2017',\n",
       " 'celebrate': 'celebrate',\n",
       " 'Vanmohotsav': 'Vanmohotsav',\n",
       " 'announced': 'announced',\n",
       " '2016': '2016',\n",
       " 'aim': 'aim',\n",
       " '2': '2',\n",
       " 'resounding': 'resounding',\n",
       " 'success': 'success',\n",
       " 'final': 'final',\n",
       " 'total': 'total',\n",
       " 'reported': 'reported',\n",
       " 'figure': 'figure',\n",
       " '2.82': '2.82',\n",
       " 'single': 'single',\n",
       " 'day': 'day',\n",
       " 'To': 'To',\n",
       " 'maintain': 'maintain',\n",
       " 'consistency': 'consistency',\n",
       " 'platform': 'platform',\n",
       " 'without': 'without',\n",
       " 'affecting': 'affecting',\n",
       " 'momentum': 'momentum',\n",
       " '13': '13',\n",
       " 'mission': 'mission',\n",
       " 'shall': 'shall',\n",
       " 'accomplished': 'accomplished',\n",
       " 'consecutive': 'consecutive',\n",
       " 'years': 'year',\n",
       " 'viz': 'viz',\n",
       " '2018': '2018',\n",
       " 'state-wide': 'state-wide',\n",
       " 'involvement': 'involvement',\n",
       " 'departments': 'department',\n",
       " 'along': 'along',\n",
       " 'Students': 'Students',\n",
       " 'Schools': 'Schools',\n",
       " 'Colleges': 'Colleges',\n",
       " 'NSS': 'NSS',\n",
       " 'NCC': 'NCC',\n",
       " 'CSR': 'CSR',\n",
       " 'NGOs': 'NGOs',\n",
       " 'Railways': 'Railways',\n",
       " 'Highways': 'Highways',\n",
       " 'Defence': 'Defence',\n",
       " 'NABARD': 'NABARD',\n",
       " 'stakeholders': 'stakeholder',\n",
       " 'Society': 'Society',\n",
       " 'first': 'first',\n",
       " 'kind': 'kind',\n",
       " '24-hour': '24-hour',\n",
       " 'toll': 'toll',\n",
       " 'free': 'free',\n",
       " 'helpline': 'helpline',\n",
       " 'number': 'number',\n",
       " '1926': '1926',\n",
       " 'called': 'called',\n",
       " 'Hello': 'Hello',\n",
       " 'provide': 'provide',\n",
       " 'information': 'information',\n",
       " 'regarding': 'regarding',\n",
       " 'protection': 'protection',\n",
       " 'mass': 'mass',\n",
       " 'awareness': 'awareness',\n",
       " 'mobile': 'mobile',\n",
       " 'application': 'application',\n",
       " 'My': 'My',\n",
       " 'Plants': 'Plants',\n",
       " 'record': 'record',\n",
       " 'details': 'detail',\n",
       " 'numbers': 'number',\n",
       " 'species': 'specie',\n",
       " 'location': 'location',\n",
       " 'computer': 'computer',\n",
       " 'system': 'system',\n",
       " 'All': 'All',\n",
       " 'volunteers': 'volunteer',\n",
       " 'individual': 'individual',\n",
       " 'collective': 'collective',\n",
       " 'organizational': 'organizational',\n",
       " 'level': 'level',\n",
       " 'download': 'download',\n",
       " 'use': 'use',\n",
       " 'work': 'work',\n",
       " 'operational': 'operational',\n",
       " 'consonance': 'consonance',\n",
       " 'public': 'public',\n",
       " 'participation': 'participation',\n",
       " 'initiated': 'initiated',\n",
       " 'Harit': 'Harit',\n",
       " 'Sena': 'Sena',\n",
       " 'Green': 'Green',\n",
       " 'Army': 'Army',\n",
       " 'body': 'body',\n",
       " 'dedicated': 'dedicated',\n",
       " 'participate': 'participate',\n",
       " 'activities': 'activity',\n",
       " 'wildlife': 'wildlife',\n",
       " 'related': 'related',\n",
       " 'sectors': 'sector',\n",
       " 'around': 'around',\n",
       " 'Individuals': 'Individuals',\n",
       " 'organisations': 'organisation',\n",
       " 'interested': 'interested',\n",
       " 'volunteering': 'volunteering',\n",
       " 'register': 'register',\n",
       " 'website': 'website',\n",
       " 'www.greenarmy.mahaforest.gov.in': 'www.greenarmy.mahaforest.gov.in',\n",
       " 'An': 'An',\n",
       " 'integrated': 'integrated',\n",
       " 'place': 'place',\n",
       " 'ensure': 'ensure',\n",
       " 'seamless': 'seamless',\n",
       " 'successful': 'successful',\n",
       " 'society': 'society',\n",
       " 'especially': 'especially'}"
      ]
     },
     "execution_count": 168,
     "metadata": {},
     "output_type": "execute_result"
    }
   ],
   "source": [
    "lemmatizer = WordNetLemmatizer()\n",
    "lemmatized_words = [lemmatizer.lemmatize(w) for w in word_tokens]\n",
    "\n",
    "dict(zip(word_tokens[20:], lemmatized_words[20:]))"
   ]
  },
  {
   "cell_type": "code",
   "execution_count": null,
   "metadata": {},
   "outputs": [],
   "source": [
    "#TF\n",
    "\n",
    "fd = FreqDist(doc_1)"
   ]
  }
 ],
 "metadata": {
  "kernelspec": {
   "display_name": "DjangoTutorials-ELbGRrFZ",
   "language": "python",
   "name": "python3"
  },
  "language_info": {
   "codemirror_mode": {
    "name": "ipython",
    "version": 3
   },
   "file_extension": ".py",
   "mimetype": "text/x-python",
   "name": "python",
   "nbconvert_exporter": "python",
   "pygments_lexer": "ipython3",
   "version": "3.12.0"
  }
 },
 "nbformat": 4,
 "nbformat_minor": 2
}

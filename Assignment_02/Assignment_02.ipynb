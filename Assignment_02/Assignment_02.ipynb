{
 "cells": [
  {
   "cell_type": "markdown",
   "metadata": {},
   "source": [
    "# Assignment 2"
   ]
  },
  {
   "cell_type": "markdown",
   "metadata": {},
   "source": [
    "Data Wrangling II\n",
    "Create an “Academic performance” dataset of students and perform the\n",
    "following operations using Python. \n",
    "\n",
    "1. Scan all variables for missing values and inconsistencies. \n",
    "If there are missing values and/or inconsistencies, use any of the suitable techniques to deal with them.\n",
    "\n",
    "2. Scan all numeric variables for outliers. \n",
    "If there are outliers, use any of the suitable techniques to deal with them.\n",
    "\n",
    "3. Apply data transformations on at least one of the variables. \n",
    "The purpose of this transformation should be one of the following reasons: \n",
    "- to change the scale for better understanding of the variable\n",
    "- to convert a non-linear relation into a linear one\n",
    "- to decrease the skewness and convert the distribution into a normal distribution.\n",
    "\n",
    "Reason and document your approach properly."
   ]
  },
  {
   "cell_type": "code",
   "execution_count": null,
   "metadata": {
    "vscode": {
     "languageId": "plaintext"
    }
   },
   "outputs": [],
   "source": []
  }
 ],
 "metadata": {
  "language_info": {
   "name": "python"
  }
 },
 "nbformat": 4,
 "nbformat_minor": 2
}

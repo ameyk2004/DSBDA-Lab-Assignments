{
 "cells": [
  {
   "cell_type": "markdown",
   "metadata": {},
   "source": [
    "# Assignment 2"
   ]
  },
  {
   "cell_type": "markdown",
   "metadata": {},
   "source": [
    "Data Wrangling II\n",
    "Create an “Academic performance” dataset of students and perform the\n",
    "following operations using Python. \n",
    "\n",
    "1. Scan all variables for missing values and inconsistencies. \n",
    "If there are missing values and/or inconsistencies, use any of the suitable techniques to deal with them.\n",
    "\n",
    "2. Scan all numeric variables for outliers. \n",
    "If there are outliers, use any of the suitable techniques to deal with them.\n",
    "\n",
    "3. Apply data transformations on at least one of the variables. \n",
    "The purpose of this transformation should be one of the following reasons: \n",
    "- to change the scale for better understanding of the variable\n",
    "- to convert a non-linear relation into a linear one\n",
    "- to decrease the skewness and convert the distribution into a normal distribution.\n",
    "\n",
    "Reason and document your approach properly."
   ]
  },
  {
   "cell_type": "code",
   "execution_count": 331,
   "metadata": {},
   "outputs": [
    {
     "data": {
      "text/html": [
       "<div>\n",
       "<style scoped>\n",
       "    .dataframe tbody tr th:only-of-type {\n",
       "        vertical-align: middle;\n",
       "    }\n",
       "\n",
       "    .dataframe tbody tr th {\n",
       "        vertical-align: top;\n",
       "    }\n",
       "\n",
       "    .dataframe thead th {\n",
       "        text-align: right;\n",
       "    }\n",
       "</style>\n",
       "<table border=\"1\" class=\"dataframe\">\n",
       "  <thead>\n",
       "    <tr style=\"text-align: right;\">\n",
       "      <th></th>\n",
       "      <th>gender</th>\n",
       "      <th>race/ethnicity</th>\n",
       "      <th>parental_level_of_edu</th>\n",
       "      <th>lunch</th>\n",
       "      <th>test_preparation_course</th>\n",
       "      <th>math_score</th>\n",
       "      <th>reading_score</th>\n",
       "      <th>writing_score</th>\n",
       "    </tr>\n",
       "  </thead>\n",
       "  <tbody>\n",
       "    <tr>\n",
       "      <th>0</th>\n",
       "      <td>Female</td>\n",
       "      <td>Group D</td>\n",
       "      <td>high school</td>\n",
       "      <td>standard</td>\n",
       "      <td>completed</td>\n",
       "      <td>NaN</td>\n",
       "      <td>55.0</td>\n",
       "      <td>21.0</td>\n",
       "    </tr>\n",
       "    <tr>\n",
       "      <th>1</th>\n",
       "      <td>NaN</td>\n",
       "      <td>Group D</td>\n",
       "      <td>bachelor's degree</td>\n",
       "      <td>Free</td>\n",
       "      <td>completed</td>\n",
       "      <td>62.0</td>\n",
       "      <td>73.0</td>\n",
       "      <td>33.0</td>\n",
       "    </tr>\n",
       "    <tr>\n",
       "      <th>2</th>\n",
       "      <td>NaN</td>\n",
       "      <td>group e</td>\n",
       "      <td>some college</td>\n",
       "      <td>standard</td>\n",
       "      <td>completed</td>\n",
       "      <td>25.0</td>\n",
       "      <td>19.0</td>\n",
       "      <td>24.0</td>\n",
       "    </tr>\n",
       "    <tr>\n",
       "      <th>3</th>\n",
       "      <td>female</td>\n",
       "      <td>group c</td>\n",
       "      <td>high school</td>\n",
       "      <td>Standard</td>\n",
       "      <td>completed</td>\n",
       "      <td>82.0</td>\n",
       "      <td>32.0</td>\n",
       "      <td>56.0</td>\n",
       "    </tr>\n",
       "    <tr>\n",
       "      <th>4</th>\n",
       "      <td>male</td>\n",
       "      <td>group e</td>\n",
       "      <td>high school</td>\n",
       "      <td>standard</td>\n",
       "      <td>completed</td>\n",
       "      <td>87.0</td>\n",
       "      <td>51.0</td>\n",
       "      <td>20.0</td>\n",
       "    </tr>\n",
       "  </tbody>\n",
       "</table>\n",
       "</div>"
      ],
      "text/plain": [
       "   gender race/ethnicity parental_level_of_edu     lunch  \\\n",
       "0  Female        Group D           high school  standard   \n",
       "1     NaN        Group D     bachelor's degree      Free   \n",
       "2     NaN        group e          some college  standard   \n",
       "3  female        group c           high school  Standard   \n",
       "4    male        group e           high school  standard   \n",
       "\n",
       "  test_preparation_course  math_score  reading_score  writing_score  \n",
       "0               completed         NaN           55.0           21.0  \n",
       "1               completed        62.0           73.0           33.0  \n",
       "2               completed        25.0           19.0           24.0  \n",
       "3               completed        82.0           32.0           56.0  \n",
       "4               completed        87.0           51.0           20.0  "
      ]
     },
     "execution_count": 331,
     "metadata": {},
     "output_type": "execute_result"
    }
   ],
   "source": [
    "import pandas as pd\n",
    "\n",
    "df = pd.read_csv('dataset.csv')\n",
    "df.head()"
   ]
  },
  {
   "cell_type": "code",
   "execution_count": 332,
   "metadata": {},
   "outputs": [],
   "source": [
    "df = df.rename(columns={\n",
    "    \"race/ethnicity\" : \"race\", \n",
    "    \"parental_level_of_edu\" : \"parent_edu\",\n",
    "    \"lunch\" : \"lunch_type\",\n",
    "    \"test_preparation_course\" : \"course\"\n",
    "    })"
   ]
  },
  {
   "cell_type": "code",
   "execution_count": 333,
   "metadata": {},
   "outputs": [
    {
     "data": {
      "text/plain": [
       "gender           107\n",
       "race              92\n",
       "parent_edu        80\n",
       "lunch_type        94\n",
       "course           105\n",
       "math_score       105\n",
       "reading_score    106\n",
       "writing_score    103\n",
       "dtype: int64"
      ]
     },
     "execution_count": 333,
     "metadata": {},
     "output_type": "execute_result"
    }
   ],
   "source": [
    "df.isna().sum()"
   ]
  },
  {
   "cell_type": "code",
   "execution_count": 334,
   "metadata": {},
   "outputs": [
    {
     "data": {
      "text/plain": [
       "array(['Female', 'Male'], dtype=object)"
      ]
     },
     "execution_count": 334,
     "metadata": {},
     "output_type": "execute_result"
    }
   ],
   "source": [
    "df[\"gender\"] = df[\"gender\"].str.lower()\n",
    "df[\"gender\"] = df[\"gender\"].replace({\n",
    "    \"m\" : \"male\",\n",
    "    \"f\" : \"female\"\n",
    "})\n",
    "df[\"gender\"] = df[\"gender\"].ffill()\n",
    "df[\"gender\"] = df[\"gender\"].str.capitalize()\n",
    "df.gender.unique()"
   ]
  },
  {
   "cell_type": "code",
   "execution_count": 335,
   "metadata": {},
   "outputs": [
    {
     "data": {
      "text/plain": [
       "array([' D', ' E', ' C', ' A', ' B'], dtype=object)"
      ]
     },
     "execution_count": 335,
     "metadata": {},
     "output_type": "execute_result"
    }
   ],
   "source": [
    "df[\"race\"] = df[\"race\"].str.upper()\n",
    "df[\"race\"] = df[\"race\"].ffill()\n",
    "df[\"race\"] = (df[\"race\"].str.split(\"GROUP\")).str[1]\n",
    "df[\"race\"].unique()"
   ]
  },
  {
   "cell_type": "code",
   "execution_count": 336,
   "metadata": {},
   "outputs": [
    {
     "data": {
      "text/plain": [
       "array(['High School', 'Bachelor', 'College', 'Master', 'Associate'],\n",
       "      dtype=object)"
      ]
     },
     "execution_count": 336,
     "metadata": {},
     "output_type": "execute_result"
    }
   ],
   "source": [
    "df = df.dropna(subset=[\"parent_edu\"])\n",
    "df[\"parent_edu\"] = df[\"parent_edu\"].str.lower()\n",
    "df.loc[df[\"parent_edu\"].str.contains(\"school\",  na=False),\"parent_edu\"] = \"High School\"\n",
    "df.loc[df[\"parent_edu\"].str.contains(\"master\",  na=False),\"parent_edu\"] = \"Master\"\n",
    "df.loc[df[\"parent_edu\"].str.contains(\"bachelor\",  na=False),\"parent_edu\"] = \"Bachelor\"\n",
    "df.loc[df[\"parent_edu\"].str.contains(\"college\",  na=False),\"parent_edu\"] = \"College\"\n",
    "df.loc[df[\"parent_edu\"].str.contains(\"associate\",  na=False), \"parent_edu\"] = \"Associate\"\n",
    "\n",
    "df.parent_edu.unique()"
   ]
  },
  {
   "cell_type": "code",
   "execution_count": 337,
   "metadata": {},
   "outputs": [
    {
     "data": {
      "text/plain": [
       "array(['Standard', 'Free'], dtype=object)"
      ]
     },
     "execution_count": 337,
     "metadata": {},
     "output_type": "execute_result"
    }
   ],
   "source": [
    "df.lunch_type.unique()\n",
    "\n",
    "df.lunch_type = df.lunch_type.ffill()\n",
    "df.lunch_type = df.lunch_type.str.lower()\n",
    "df.loc[df[\"lunch_type\"].str.contains(\"free\"), \"lunch_type\"] = \"free\"\n",
    "df.lunch_type = df.lunch_type.str.capitalize()\n",
    "df.lunch_type.unique()"
   ]
  },
  {
   "cell_type": "code",
   "execution_count": 338,
   "metadata": {},
   "outputs": [
    {
     "data": {
      "text/plain": [
       "<bound method Series.unique of 0      True\n",
       "1      True\n",
       "2      True\n",
       "3      True\n",
       "4      True\n",
       "       ... \n",
       "995    True\n",
       "996    True\n",
       "997    True\n",
       "998    True\n",
       "999    True\n",
       "Name: course, Length: 920, dtype: bool>"
      ]
     },
     "execution_count": 338,
     "metadata": {},
     "output_type": "execute_result"
    }
   ],
   "source": [
    "df[\"course\"] = df[\"course\"].fillna(\"none\").ne(\"none\")\n",
    "df[\"course\"].unique\n"
   ]
  },
  {
   "cell_type": "code",
   "execution_count": 339,
   "metadata": {},
   "outputs": [
    {
     "data": {
      "text/plain": [
       "gender            0\n",
       "race              0\n",
       "parent_edu        0\n",
       "lunch_type        0\n",
       "course            0\n",
       "math_score       97\n",
       "reading_score    97\n",
       "writing_score    92\n",
       "dtype: int64"
      ]
     },
     "execution_count": 339,
     "metadata": {},
     "output_type": "execute_result"
    }
   ],
   "source": [
    "df.isna().sum()"
   ]
  },
  {
   "cell_type": "code",
   "execution_count": 340,
   "metadata": {},
   "outputs": [
    {
     "data": {
      "text/plain": [
       "gender           0\n",
       "race             0\n",
       "parent_edu       0\n",
       "lunch_type       0\n",
       "course           0\n",
       "math_score       0\n",
       "reading_score    0\n",
       "writing_score    0\n",
       "dtype: int64"
      ]
     },
     "execution_count": 340,
     "metadata": {},
     "output_type": "execute_result"
    }
   ],
   "source": [
    "df[\"math_score\"] = df[\"math_score\"].fillna(df[\"math_score\"].mean())\n",
    "df[\"reading_score\"] = df[\"reading_score\"].fillna(df[\"reading_score\"].mean())\n",
    "df[\"writing_score\"] = df[\"writing_score\"].fillna(df[\"writing_score\"].mean()) \n",
    "\n",
    "df.isna().sum()"
   ]
  },
  {
   "cell_type": "code",
   "execution_count": 341,
   "metadata": {},
   "outputs": [
    {
     "data": {
      "text/html": [
       "<div>\n",
       "<style scoped>\n",
       "    .dataframe tbody tr th:only-of-type {\n",
       "        vertical-align: middle;\n",
       "    }\n",
       "\n",
       "    .dataframe tbody tr th {\n",
       "        vertical-align: top;\n",
       "    }\n",
       "\n",
       "    .dataframe thead th {\n",
       "        text-align: right;\n",
       "    }\n",
       "</style>\n",
       "<table border=\"1\" class=\"dataframe\">\n",
       "  <thead>\n",
       "    <tr style=\"text-align: right;\">\n",
       "      <th></th>\n",
       "      <th>gender</th>\n",
       "      <th>race</th>\n",
       "      <th>parent_edu</th>\n",
       "      <th>lunch_type</th>\n",
       "      <th>course</th>\n",
       "      <th>math_score</th>\n",
       "      <th>reading_score</th>\n",
       "      <th>writing_score</th>\n",
       "    </tr>\n",
       "  </thead>\n",
       "  <tbody>\n",
       "    <tr>\n",
       "      <th>0</th>\n",
       "      <td>Female</td>\n",
       "      <td>D</td>\n",
       "      <td>High School</td>\n",
       "      <td>Standard</td>\n",
       "      <td>True</td>\n",
       "      <td>58.235723</td>\n",
       "      <td>55.0</td>\n",
       "      <td>21.0</td>\n",
       "    </tr>\n",
       "    <tr>\n",
       "      <th>1</th>\n",
       "      <td>Female</td>\n",
       "      <td>D</td>\n",
       "      <td>Bachelor</td>\n",
       "      <td>Free</td>\n",
       "      <td>True</td>\n",
       "      <td>62.000000</td>\n",
       "      <td>73.0</td>\n",
       "      <td>33.0</td>\n",
       "    </tr>\n",
       "    <tr>\n",
       "      <th>2</th>\n",
       "      <td>Female</td>\n",
       "      <td>E</td>\n",
       "      <td>College</td>\n",
       "      <td>Standard</td>\n",
       "      <td>True</td>\n",
       "      <td>25.000000</td>\n",
       "      <td>19.0</td>\n",
       "      <td>24.0</td>\n",
       "    </tr>\n",
       "    <tr>\n",
       "      <th>3</th>\n",
       "      <td>Female</td>\n",
       "      <td>C</td>\n",
       "      <td>High School</td>\n",
       "      <td>Standard</td>\n",
       "      <td>True</td>\n",
       "      <td>82.000000</td>\n",
       "      <td>32.0</td>\n",
       "      <td>56.0</td>\n",
       "    </tr>\n",
       "    <tr>\n",
       "      <th>4</th>\n",
       "      <td>Male</td>\n",
       "      <td>E</td>\n",
       "      <td>High School</td>\n",
       "      <td>Standard</td>\n",
       "      <td>True</td>\n",
       "      <td>87.000000</td>\n",
       "      <td>51.0</td>\n",
       "      <td>20.0</td>\n",
       "    </tr>\n",
       "  </tbody>\n",
       "</table>\n",
       "</div>"
      ],
      "text/plain": [
       "   gender race   parent_edu lunch_type  course  math_score  reading_score  \\\n",
       "0  Female    D  High School   Standard    True   58.235723           55.0   \n",
       "1  Female    D     Bachelor       Free    True   62.000000           73.0   \n",
       "2  Female    E      College   Standard    True   25.000000           19.0   \n",
       "3  Female    C  High School   Standard    True   82.000000           32.0   \n",
       "4    Male    E  High School   Standard    True   87.000000           51.0   \n",
       "\n",
       "   writing_score  \n",
       "0           21.0  \n",
       "1           33.0  \n",
       "2           24.0  \n",
       "3           56.0  \n",
       "4           20.0  "
      ]
     },
     "execution_count": 341,
     "metadata": {},
     "output_type": "execute_result"
    }
   ],
   "source": [
    "# Min Max Normalization\n",
    "def min_max_normalization(df, col):\n",
    "    df[col] = (df[col] - df[col].min()) / (df[col].max() - df[col].min())\n",
    "    return df[col]\n",
    "df.head()\n"
   ]
  },
  {
   "cell_type": "code",
   "execution_count": 342,
   "metadata": {},
   "outputs": [
    {
     "data": {
      "text/html": [
       "<div>\n",
       "<style scoped>\n",
       "    .dataframe tbody tr th:only-of-type {\n",
       "        vertical-align: middle;\n",
       "    }\n",
       "\n",
       "    .dataframe tbody tr th {\n",
       "        vertical-align: top;\n",
       "    }\n",
       "\n",
       "    .dataframe thead th {\n",
       "        text-align: right;\n",
       "    }\n",
       "</style>\n",
       "<table border=\"1\" class=\"dataframe\">\n",
       "  <thead>\n",
       "    <tr style=\"text-align: right;\">\n",
       "      <th></th>\n",
       "      <th>gender</th>\n",
       "      <th>race</th>\n",
       "      <th>parent_edu</th>\n",
       "      <th>lunch_type</th>\n",
       "      <th>course</th>\n",
       "      <th>math_score</th>\n",
       "      <th>reading_score</th>\n",
       "      <th>writing_score</th>\n",
       "    </tr>\n",
       "  </thead>\n",
       "  <tbody>\n",
       "    <tr>\n",
       "      <th>0</th>\n",
       "      <td>Female</td>\n",
       "      <td>D</td>\n",
       "      <td>High School</td>\n",
       "      <td>Standard</td>\n",
       "      <td>True</td>\n",
       "      <td>0.511319</td>\n",
       "      <td>0.487805</td>\n",
       "      <td>0.111111</td>\n",
       "    </tr>\n",
       "    <tr>\n",
       "      <th>1</th>\n",
       "      <td>Female</td>\n",
       "      <td>D</td>\n",
       "      <td>Bachelor</td>\n",
       "      <td>Free</td>\n",
       "      <td>True</td>\n",
       "      <td>0.569231</td>\n",
       "      <td>0.707317</td>\n",
       "      <td>0.277778</td>\n",
       "    </tr>\n",
       "    <tr>\n",
       "      <th>2</th>\n",
       "      <td>Female</td>\n",
       "      <td>E</td>\n",
       "      <td>College</td>\n",
       "      <td>Standard</td>\n",
       "      <td>True</td>\n",
       "      <td>0.000000</td>\n",
       "      <td>0.048780</td>\n",
       "      <td>0.152778</td>\n",
       "    </tr>\n",
       "    <tr>\n",
       "      <th>3</th>\n",
       "      <td>Female</td>\n",
       "      <td>C</td>\n",
       "      <td>High School</td>\n",
       "      <td>Standard</td>\n",
       "      <td>True</td>\n",
       "      <td>0.876923</td>\n",
       "      <td>0.207317</td>\n",
       "      <td>0.597222</td>\n",
       "    </tr>\n",
       "    <tr>\n",
       "      <th>4</th>\n",
       "      <td>Male</td>\n",
       "      <td>E</td>\n",
       "      <td>High School</td>\n",
       "      <td>Standard</td>\n",
       "      <td>True</td>\n",
       "      <td>0.953846</td>\n",
       "      <td>0.439024</td>\n",
       "      <td>0.097222</td>\n",
       "    </tr>\n",
       "  </tbody>\n",
       "</table>\n",
       "</div>"
      ],
      "text/plain": [
       "   gender race   parent_edu lunch_type  course  math_score  reading_score  \\\n",
       "0  Female    D  High School   Standard    True    0.511319       0.487805   \n",
       "1  Female    D     Bachelor       Free    True    0.569231       0.707317   \n",
       "2  Female    E      College   Standard    True    0.000000       0.048780   \n",
       "3  Female    C  High School   Standard    True    0.876923       0.207317   \n",
       "4    Male    E  High School   Standard    True    0.953846       0.439024   \n",
       "\n",
       "   writing_score  \n",
       "0       0.111111  \n",
       "1       0.277778  \n",
       "2       0.152778  \n",
       "3       0.597222  \n",
       "4       0.097222  "
      ]
     },
     "execution_count": 342,
     "metadata": {},
     "output_type": "execute_result"
    }
   ],
   "source": [
    "min_max_normalized_df = df.copy()\n",
    "min_max_normalized_df[\"math_score\"] = min_max_normalization(min_max_normalized_df, \"math_score\")\n",
    "min_max_normalized_df[\"reading_score\"] = min_max_normalization(min_max_normalized_df, \"reading_score\")\n",
    "min_max_normalized_df[\"writing_score\"] = min_max_normalization(min_max_normalized_df, \"writing_score\")\n",
    "min_max_normalized_df.head()"
   ]
  }
 ],
 "metadata": {
  "kernelspec": {
   "display_name": "DjangoTutorials-ELbGRrFZ",
   "language": "python",
   "name": "python3"
  },
  "language_info": {
   "codemirror_mode": {
    "name": "ipython",
    "version": 3
   },
   "file_extension": ".py",
   "mimetype": "text/x-python",
   "name": "python",
   "nbconvert_exporter": "python",
   "pygments_lexer": "ipython3",
   "version": "3.12.0"
  }
 },
 "nbformat": 4,
 "nbformat_minor": 2
}
